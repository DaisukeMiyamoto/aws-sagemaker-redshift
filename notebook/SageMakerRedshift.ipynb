{
 "cells": [
  {
   "cell_type": "code",
   "execution_count": 154,
   "metadata": {},
   "outputs": [],
   "source": [
    "import pandas as pd\n",
    "import matplotlib.pyplot as plt\n",
    "import psycopg2\n",
    "import boto3"
   ]
  },
  {
   "cell_type": "code",
   "execution_count": 47,
   "metadata": {},
   "outputs": [],
   "source": [
    "cfn = boto3.client('cloudformation')\n",
    "response = cfn.describe_stacks(StackName='SageMakerRedshift')['Stacks'][0]"
   ]
  },
  {
   "cell_type": "code",
   "execution_count": 65,
   "metadata": {},
   "outputs": [],
   "source": [
    "db_user = ''\n",
    "db_name = ''\n",
    "db_port = 5439\n",
    "\n",
    "cluster_endpoint = ''\n",
    "cluster_name = ''\n",
    "\n",
    "redshift_role = '<your_redshift_role>'"
   ]
  },
  {
   "cell_type": "code",
   "execution_count": 66,
   "metadata": {},
   "outputs": [],
   "source": [
    "for item in response['Parameters']:\n",
    "    if item['ParameterKey'] == 'MasterUsername':\n",
    "        db_user = item['ParameterValue']\n",
    "    elif item['ParameterKey'] == 'DatabaseName':\n",
    "        db_name = item['ParameterValue']\n",
    "    elif item['ParameterKey'] == 'PortNumber':\n",
    "        db_port = item['ParameterValue']"
   ]
  },
  {
   "cell_type": "code",
   "execution_count": 67,
   "metadata": {},
   "outputs": [],
   "source": [
    "for item in response['Outputs']:\n",
    "    if item['OutputKey'] == 'ClusterEndpoint':\n",
    "        cluster_endpoint = item['OutputValue'].split(':')[0]\n",
    "    elif item['OutputKey'] == 'ClusterName':\n",
    "        cluster_name = item['OutputValue']"
   ]
  },
  {
   "cell_type": "code",
   "execution_count": 104,
   "metadata": {},
   "outputs": [],
   "source": [
    "# get temporal cluster credentials\n",
    "redshift = boto3.client('redshift')\n",
    "credentials = redshift.get_cluster_credentials(\n",
    "    DbUser=user_name, \n",
    "    DbName=db_name, \n",
    "    ClusterIdentifier=cluster_name, \n",
    "    DurationSeconds=3600,\n",
    "    AutoCreate=False\n",
    ")"
   ]
  },
  {
   "cell_type": "code",
   "execution_count": 142,
   "metadata": {},
   "outputs": [],
   "source": [
    "# connect to Redshift\n",
    "con = psycopg2.connect(\n",
    "    host=cluster_endpoint, \n",
    "    port=db_port, \n",
    "    dbname=db_name, \n",
    "    user=credentials['DbUser'], \n",
    "    password=credentials['DbPassword']\n",
    ")"
   ]
  },
  {
   "cell_type": "markdown",
   "metadata": {},
   "source": [
    "https://docs.aws.amazon.com/ja_jp/redshift/latest/gsg/rs-gsg-create-sample-db.html"
   ]
  },
  {
   "cell_type": "code",
   "execution_count": 143,
   "metadata": {},
   "outputs": [],
   "source": [
    "sql_create_table = [\"\"\"\n",
    "create table users(\n",
    "\tuserid integer not null distkey sortkey,\n",
    "\tusername char(8),\n",
    "\tfirstname varchar(30),\n",
    "\tlastname varchar(30),\n",
    "\tcity varchar(30),\n",
    "\tstate char(2),\n",
    "\temail varchar(100),\n",
    "\tphone char(14),\n",
    "\tlikesports boolean,\n",
    "\tliketheatre boolean,\n",
    "\tlikeconcerts boolean,\n",
    "\tlikejazz boolean,\n",
    "\tlikeclassical boolean,\n",
    "\tlikeopera boolean,\n",
    "\tlikerock boolean,\n",
    "\tlikevegas boolean,\n",
    "\tlikebroadway boolean,\n",
    "\tlikemusicals boolean);\n",
    "\"\"\", \n",
    "\"\"\"\n",
    "create table venue(\n",
    "\tvenueid smallint not null distkey sortkey,\n",
    "\tvenuename varchar(100),\n",
    "\tvenuecity varchar(30),\n",
    "\tvenuestate char(2),\n",
    "\tvenueseats integer);\n",
    "\"\"\", \n",
    "\"\"\"\n",
    "create table category(\n",
    "\tcatid smallint not null distkey sortkey,\n",
    "\tcatgroup varchar(10),\n",
    "\tcatname varchar(10),\n",
    "\tcatdesc varchar(50));\n",
    "\"\"\", \n",
    "\"\"\"\n",
    "create table date(\n",
    "\tdateid smallint not null distkey sortkey,\n",
    "\tcaldate date not null,\n",
    "\tday character(3) not null,\n",
    "\tweek smallint not null,\n",
    "\tmonth character(5) not null,\n",
    "\tqtr character(5) not null,\n",
    "\tyear smallint not null,\n",
    "\tholiday boolean default('N'));\n",
    "\"\"\", \n",
    "\"\"\"\n",
    "create table event(\n",
    "\teventid integer not null distkey,\n",
    "\tvenueid smallint not null,\n",
    "\tcatid smallint not null,\n",
    "\tdateid smallint not null sortkey,\n",
    "\teventname varchar(200),\n",
    "\tstarttime timestamp);\n",
    "\"\"\", \n",
    "\"\"\"\n",
    "create table listing(\n",
    "\tlistid integer not null distkey,\n",
    "\tsellerid integer not null,\n",
    "\teventid integer not null,\n",
    "\tdateid smallint not null  sortkey,\n",
    "\tnumtickets smallint not null,\n",
    "\tpriceperticket decimal(8,2),\n",
    "\ttotalprice decimal(8,2),\n",
    "\tlisttime timestamp);\n",
    "\"\"\", \n",
    "\"\"\"\n",
    "create table sales(\n",
    "\tsalesid integer not null,\n",
    "\tlistid integer not null distkey,\n",
    "\tsellerid integer not null,\n",
    "\tbuyerid integer not null,\n",
    "\teventid integer not null,\n",
    "\tdateid smallint not null sortkey,\n",
    "\tqtysold smallint not null,\n",
    "\tpricepaid decimal(8,2),\n",
    "\tcommission decimal(8,2),\n",
    "\tsaletime timestamp);\n",
    "\"\"\"]"
   ]
  },
  {
   "cell_type": "code",
   "execution_count": 144,
   "metadata": {},
   "outputs": [],
   "source": [
    "for sql in sql_create_table:\n",
    "    with con.cursor() as cur:\n",
    "        cur.execute(sql)"
   ]
  },
  {
   "cell_type": "code",
   "execution_count": 145,
   "metadata": {},
   "outputs": [],
   "source": [
    "sql_copy=[\"\"\"\n",
    "copy users from 's3://awssampledbuswest2/tickit/allusers_pipe.txt' \n",
    "credentials 'aws_iam_role={}' \n",
    "delimiter '|' region 'us-west-2';\n",
    "\"\"\", \n",
    "\"\"\"\n",
    "copy venue from 's3://awssampledbuswest2/tickit/venue_pipe.txt' \n",
    "credentials 'aws_iam_role={}' \n",
    "delimiter '|' region 'us-west-2';\n",
    "\"\"\", \n",
    "\"\"\"\n",
    "copy category from 's3://awssampledbuswest2/tickit/category_pipe.txt' \n",
    "credentials 'aws_iam_role={}' \n",
    "delimiter '|' region 'us-west-2';\n",
    "\"\"\", \n",
    "\"\"\"\n",
    "copy date from 's3://awssampledbuswest2/tickit/date2008_pipe.txt' \n",
    "credentials 'aws_iam_role={}' \n",
    "delimiter '|' region 'us-west-2';\n",
    "\"\"\", \n",
    "\"\"\"\n",
    "copy event from 's3://awssampledbuswest2/tickit/allevents_pipe.txt' \n",
    "credentials 'aws_iam_role={}' \n",
    "delimiter '|' timeformat 'YYYY-MM-DD HH:MI:SS' region 'us-west-2';\n",
    "\"\"\", \n",
    "\"\"\"\n",
    "copy listing from 's3://awssampledbuswest2/tickit/listings_pipe.txt' \n",
    "credentials 'aws_iam_role={}' \n",
    "delimiter '|' region 'us-west-2';\n",
    "\"\"\", \n",
    "\"\"\"\n",
    "copy sales from 's3://awssampledbuswest2/tickit/sales_tab.txt'\n",
    "credentials 'aws_iam_role={}'\n",
    "delimiter '\\t' timeformat 'MM/DD/YYYY HH:MI:SS' region 'us-west-2';\n",
    "\"\"\"]"
   ]
  },
  {
   "cell_type": "code",
   "execution_count": 146,
   "metadata": {},
   "outputs": [
    {
     "name": "stdout",
     "output_type": "stream",
     "text": [
      "Done:  \n",
      "copy users from 's3://awssampledbuswest2/tickit/allusers_pipe.txt' \n",
      "credentials 'aws_iam_role={}' \n",
      "delimiter '|' region 'us-west-2';\n",
      "\n",
      "Done:  \n",
      "copy venue from 's3://awssampledbuswest2/tickit/venue_pipe.txt' \n",
      "credentials 'aws_iam_role={}' \n",
      "delimiter '|' region 'us-west-2';\n",
      "\n",
      "Done:  \n",
      "copy category from 's3://awssampledbuswest2/tickit/category_pipe.txt' \n",
      "credentials 'aws_iam_role={}' \n",
      "delimiter '|' region 'us-west-2';\n",
      "\n",
      "Done:  \n",
      "copy date from 's3://awssampledbuswest2/tickit/date2008_pipe.txt' \n",
      "credentials 'aws_iam_role={}' \n",
      "delimiter '|' region 'us-west-2';\n",
      "\n",
      "Done:  \n",
      "copy event from 's3://awssampledbuswest2/tickit/allevents_pipe.txt' \n",
      "credentials 'aws_iam_role={}' \n",
      "delimiter '|' timeformat 'YYYY-MM-DD HH:MI:SS' region 'us-west-2';\n",
      "\n",
      "Done:  \n",
      "copy listing from 's3://awssampledbuswest2/tickit/listings_pipe.txt' \n",
      "credentials 'aws_iam_role={}' \n",
      "delimiter '|' region 'us-west-2';\n",
      "\n",
      "Done:  \n",
      "copy sales from 's3://awssampledbuswest2/tickit/sales_tab.txt'\n",
      "credentials 'aws_iam_role={}'\n",
      "delimiter '\t' timeformat 'MM/DD/YYYY HH:MI:SS' region 'us-west-2';\n",
      "\n",
      "CPU times: user 8.99 ms, sys: 4.99 ms, total: 14 ms\n",
      "Wall time: 1min 35s\n"
     ]
    }
   ],
   "source": [
    "%%time\n",
    "for sql in sql_copy:\n",
    "    with con.cursor() as cur:\n",
    "        cur.execute(sql.format(redshift_role))\n",
    "        print('Done: ', sql)"
   ]
  },
  {
   "cell_type": "code",
   "execution_count": 147,
   "metadata": {},
   "outputs": [
    {
     "name": "stdout",
     "output_type": "stream",
     "text": [
      "CPU times: user 66 ms, sys: 8.7 ms, total: 74.7 ms\n",
      "Wall time: 559 ms\n"
     ]
    },
    {
     "data": {
      "text/html": [
       "<div>\n",
       "<style scoped>\n",
       "    .dataframe tbody tr th:only-of-type {\n",
       "        vertical-align: middle;\n",
       "    }\n",
       "\n",
       "    .dataframe tbody tr th {\n",
       "        vertical-align: top;\n",
       "    }\n",
       "\n",
       "    .dataframe thead th {\n",
       "        text-align: right;\n",
       "    }\n",
       "</style>\n",
       "<table border=\"1\" class=\"dataframe\">\n",
       "  <thead>\n",
       "    <tr style=\"text-align: right;\">\n",
       "      <th></th>\n",
       "      <th>schemaname</th>\n",
       "      <th>tablename</th>\n",
       "      <th>column</th>\n",
       "      <th>type</th>\n",
       "      <th>encoding</th>\n",
       "      <th>distkey</th>\n",
       "      <th>sortkey</th>\n",
       "      <th>notnull</th>\n",
       "    </tr>\n",
       "  </thead>\n",
       "  <tbody>\n",
       "    <tr>\n",
       "      <th>0</th>\n",
       "      <td>public</td>\n",
       "      <td>sales</td>\n",
       "      <td>salesid</td>\n",
       "      <td>integer</td>\n",
       "      <td>delta32k</td>\n",
       "      <td>False</td>\n",
       "      <td>0</td>\n",
       "      <td>True</td>\n",
       "    </tr>\n",
       "    <tr>\n",
       "      <th>1</th>\n",
       "      <td>public</td>\n",
       "      <td>sales</td>\n",
       "      <td>listid</td>\n",
       "      <td>integer</td>\n",
       "      <td>delta32k</td>\n",
       "      <td>True</td>\n",
       "      <td>0</td>\n",
       "      <td>True</td>\n",
       "    </tr>\n",
       "    <tr>\n",
       "      <th>2</th>\n",
       "      <td>public</td>\n",
       "      <td>sales</td>\n",
       "      <td>sellerid</td>\n",
       "      <td>integer</td>\n",
       "      <td>delta32k</td>\n",
       "      <td>False</td>\n",
       "      <td>0</td>\n",
       "      <td>True</td>\n",
       "    </tr>\n",
       "    <tr>\n",
       "      <th>3</th>\n",
       "      <td>public</td>\n",
       "      <td>sales</td>\n",
       "      <td>buyerid</td>\n",
       "      <td>integer</td>\n",
       "      <td>delta32k</td>\n",
       "      <td>False</td>\n",
       "      <td>0</td>\n",
       "      <td>True</td>\n",
       "    </tr>\n",
       "    <tr>\n",
       "      <th>4</th>\n",
       "      <td>public</td>\n",
       "      <td>sales</td>\n",
       "      <td>eventid</td>\n",
       "      <td>integer</td>\n",
       "      <td>delta32k</td>\n",
       "      <td>False</td>\n",
       "      <td>0</td>\n",
       "      <td>True</td>\n",
       "    </tr>\n",
       "    <tr>\n",
       "      <th>5</th>\n",
       "      <td>public</td>\n",
       "      <td>sales</td>\n",
       "      <td>dateid</td>\n",
       "      <td>smallint</td>\n",
       "      <td>lzo</td>\n",
       "      <td>False</td>\n",
       "      <td>1</td>\n",
       "      <td>True</td>\n",
       "    </tr>\n",
       "    <tr>\n",
       "      <th>6</th>\n",
       "      <td>public</td>\n",
       "      <td>sales</td>\n",
       "      <td>qtysold</td>\n",
       "      <td>smallint</td>\n",
       "      <td>lzo</td>\n",
       "      <td>False</td>\n",
       "      <td>0</td>\n",
       "      <td>True</td>\n",
       "    </tr>\n",
       "    <tr>\n",
       "      <th>7</th>\n",
       "      <td>public</td>\n",
       "      <td>sales</td>\n",
       "      <td>pricepaid</td>\n",
       "      <td>numeric(8,2)</td>\n",
       "      <td>lzo</td>\n",
       "      <td>False</td>\n",
       "      <td>0</td>\n",
       "      <td>False</td>\n",
       "    </tr>\n",
       "    <tr>\n",
       "      <th>8</th>\n",
       "      <td>public</td>\n",
       "      <td>sales</td>\n",
       "      <td>commission</td>\n",
       "      <td>numeric(8,2)</td>\n",
       "      <td>delta32k</td>\n",
       "      <td>False</td>\n",
       "      <td>0</td>\n",
       "      <td>False</td>\n",
       "    </tr>\n",
       "    <tr>\n",
       "      <th>9</th>\n",
       "      <td>public</td>\n",
       "      <td>sales</td>\n",
       "      <td>saletime</td>\n",
       "      <td>timestamp without time zone</td>\n",
       "      <td>lzo</td>\n",
       "      <td>False</td>\n",
       "      <td>0</td>\n",
       "      <td>False</td>\n",
       "    </tr>\n",
       "  </tbody>\n",
       "</table>\n",
       "</div>"
      ],
      "text/plain": [
       "  schemaname tablename      column                         type  encoding  \\\n",
       "0     public     sales     salesid                      integer  delta32k   \n",
       "1     public     sales      listid                      integer  delta32k   \n",
       "2     public     sales    sellerid                      integer  delta32k   \n",
       "3     public     sales     buyerid                      integer  delta32k   \n",
       "4     public     sales     eventid                      integer  delta32k   \n",
       "5     public     sales      dateid                     smallint       lzo   \n",
       "6     public     sales     qtysold                     smallint       lzo   \n",
       "7     public     sales   pricepaid                 numeric(8,2)       lzo   \n",
       "8     public     sales  commission                 numeric(8,2)  delta32k   \n",
       "9     public     sales    saletime  timestamp without time zone       lzo   \n",
       "\n",
       "   distkey  sortkey  notnull  \n",
       "0    False        0     True  \n",
       "1     True        0     True  \n",
       "2    False        0     True  \n",
       "3    False        0     True  \n",
       "4    False        0     True  \n",
       "5    False        1     True  \n",
       "6    False        0     True  \n",
       "7    False        0    False  \n",
       "8    False        0    False  \n",
       "9    False        0    False  "
      ]
     },
     "execution_count": 147,
     "metadata": {},
     "output_type": "execute_result"
    }
   ],
   "source": [
    "# Get definition for the sales table.\n",
    "sql=\"\"\"\n",
    "SELECT *    \n",
    "FROM pg_table_def    \n",
    "WHERE tablename = 'sales';\n",
    "\"\"\"\n",
    "%time pd.read_sql(sql=sql, con=con)"
   ]
  },
  {
   "cell_type": "code",
   "execution_count": 148,
   "metadata": {},
   "outputs": [
    {
     "name": "stdout",
     "output_type": "stream",
     "text": [
      "CPU times: user 2.04 ms, sys: 147 µs, total: 2.19 ms\n",
      "Wall time: 5.33 s\n"
     ]
    },
    {
     "data": {
      "text/html": [
       "<div>\n",
       "<style scoped>\n",
       "    .dataframe tbody tr th:only-of-type {\n",
       "        vertical-align: middle;\n",
       "    }\n",
       "\n",
       "    .dataframe tbody tr th {\n",
       "        vertical-align: top;\n",
       "    }\n",
       "\n",
       "    .dataframe thead th {\n",
       "        text-align: right;\n",
       "    }\n",
       "</style>\n",
       "<table border=\"1\" class=\"dataframe\">\n",
       "  <thead>\n",
       "    <tr style=\"text-align: right;\">\n",
       "      <th></th>\n",
       "      <th>sum</th>\n",
       "    </tr>\n",
       "  </thead>\n",
       "  <tbody>\n",
       "    <tr>\n",
       "      <th>0</th>\n",
       "      <td>210</td>\n",
       "    </tr>\n",
       "  </tbody>\n",
       "</table>\n",
       "</div>"
      ],
      "text/plain": [
       "   sum\n",
       "0  210"
      ]
     },
     "execution_count": 148,
     "metadata": {},
     "output_type": "execute_result"
    }
   ],
   "source": [
    "# Find total sales on a given calendar date.\n",
    "sql=\"\"\"\n",
    "SELECT sum(qtysold) \n",
    "FROM   sales, date \n",
    "WHERE  sales.dateid = date.dateid \n",
    "AND    caldate = '2008-01-05';\n",
    "\"\"\"\n",
    "%time pd.read_sql(sql=sql, con=con)"
   ]
  },
  {
   "cell_type": "code",
   "execution_count": 149,
   "metadata": {},
   "outputs": [
    {
     "name": "stdout",
     "output_type": "stream",
     "text": [
      "CPU times: user 2.83 ms, sys: 0 ns, total: 2.83 ms\n",
      "Wall time: 9.45 s\n"
     ]
    },
    {
     "data": {
      "text/plain": [
       "(10, 3)"
      ]
     },
     "execution_count": 149,
     "metadata": {},
     "output_type": "execute_result"
    }
   ],
   "source": [
    "# Find top 10 buyers by quantity.\n",
    "sql=\"\"\"\n",
    "SELECT firstname, lastname, total_quantity \n",
    "FROM   (SELECT buyerid, sum(qtysold) total_quantity\n",
    "        FROM  sales\n",
    "        GROUP BY buyerid\n",
    "        ORDER BY total_quantity desc limit 10) Q, users\n",
    "WHERE Q.buyerid = userid\n",
    "ORDER BY Q.total_quantity desc;\n",
    "\"\"\"\n",
    "%time df = pd.read_sql(sql=sql, con=con)\n",
    "df.shape"
   ]
  },
  {
   "cell_type": "code",
   "execution_count": 150,
   "metadata": {},
   "outputs": [
    {
     "data": {
      "text/html": [
       "<div>\n",
       "<style scoped>\n",
       "    .dataframe tbody tr th:only-of-type {\n",
       "        vertical-align: middle;\n",
       "    }\n",
       "\n",
       "    .dataframe tbody tr th {\n",
       "        vertical-align: top;\n",
       "    }\n",
       "\n",
       "    .dataframe thead th {\n",
       "        text-align: right;\n",
       "    }\n",
       "</style>\n",
       "<table border=\"1\" class=\"dataframe\">\n",
       "  <thead>\n",
       "    <tr style=\"text-align: right;\">\n",
       "      <th></th>\n",
       "      <th>firstname</th>\n",
       "      <th>lastname</th>\n",
       "      <th>total_quantity</th>\n",
       "    </tr>\n",
       "  </thead>\n",
       "  <tbody>\n",
       "    <tr>\n",
       "      <th>0</th>\n",
       "      <td>Jerry</td>\n",
       "      <td>Nichols</td>\n",
       "      <td>67</td>\n",
       "    </tr>\n",
       "    <tr>\n",
       "      <th>1</th>\n",
       "      <td>Kameko</td>\n",
       "      <td>Bowman</td>\n",
       "      <td>64</td>\n",
       "    </tr>\n",
       "    <tr>\n",
       "      <th>2</th>\n",
       "      <td>Armando</td>\n",
       "      <td>Lopez</td>\n",
       "      <td>64</td>\n",
       "    </tr>\n",
       "    <tr>\n",
       "      <th>3</th>\n",
       "      <td>Kellie</td>\n",
       "      <td>Savage</td>\n",
       "      <td>63</td>\n",
       "    </tr>\n",
       "    <tr>\n",
       "      <th>4</th>\n",
       "      <td>Herrod</td>\n",
       "      <td>Sparks</td>\n",
       "      <td>60</td>\n",
       "    </tr>\n",
       "    <tr>\n",
       "      <th>5</th>\n",
       "      <td>Rhona</td>\n",
       "      <td>Sweet</td>\n",
       "      <td>60</td>\n",
       "    </tr>\n",
       "    <tr>\n",
       "      <th>6</th>\n",
       "      <td>Kadeem</td>\n",
       "      <td>Blair</td>\n",
       "      <td>60</td>\n",
       "    </tr>\n",
       "    <tr>\n",
       "      <th>7</th>\n",
       "      <td>Belle</td>\n",
       "      <td>Foreman</td>\n",
       "      <td>60</td>\n",
       "    </tr>\n",
       "    <tr>\n",
       "      <th>8</th>\n",
       "      <td>Deborah</td>\n",
       "      <td>Barber</td>\n",
       "      <td>60</td>\n",
       "    </tr>\n",
       "    <tr>\n",
       "      <th>9</th>\n",
       "      <td>Penelope</td>\n",
       "      <td>Merritt</td>\n",
       "      <td>60</td>\n",
       "    </tr>\n",
       "  </tbody>\n",
       "</table>\n",
       "</div>"
      ],
      "text/plain": [
       "  firstname lastname  total_quantity\n",
       "0     Jerry  Nichols              67\n",
       "1    Kameko   Bowman              64\n",
       "2   Armando    Lopez              64\n",
       "3    Kellie   Savage              63\n",
       "4    Herrod   Sparks              60\n",
       "5     Rhona    Sweet              60\n",
       "6    Kadeem    Blair              60\n",
       "7     Belle  Foreman              60\n",
       "8   Deborah   Barber              60\n",
       "9  Penelope  Merritt              60"
      ]
     },
     "execution_count": 150,
     "metadata": {},
     "output_type": "execute_result"
    }
   ],
   "source": [
    "df"
   ]
  },
  {
   "cell_type": "code",
   "execution_count": 151,
   "metadata": {},
   "outputs": [
    {
     "name": "stdout",
     "output_type": "stream",
     "text": [
      "CPU times: user 3.04 ms, sys: 0 ns, total: 3.04 ms\n",
      "Wall time: 10.6 s\n"
     ]
    },
    {
     "data": {
      "text/plain": [
       "(9, 2)"
      ]
     },
     "execution_count": 151,
     "metadata": {},
     "output_type": "execute_result"
    }
   ],
   "source": [
    "# Find events in the 99.9 percentile in terms of all time gross sales.\n",
    "sql=\"\"\"\n",
    "SELECT eventname, total_price \n",
    "FROM  (SELECT eventid, total_price, ntile(1000) over(order by total_price desc) as percentile \n",
    "       FROM (SELECT eventid, sum(pricepaid) total_price\n",
    "             FROM   sales\n",
    "             GROUP BY eventid)) Q, event E\n",
    "       WHERE Q.eventid = E.eventid\n",
    "       AND percentile = 1\n",
    "ORDER BY total_price desc;\n",
    "\"\"\"\n",
    "%time df = pd.read_sql(sql=sql, con=con)\n",
    "df.shape"
   ]
  },
  {
   "cell_type": "code",
   "execution_count": 152,
   "metadata": {},
   "outputs": [
    {
     "data": {
      "text/html": [
       "<div>\n",
       "<style scoped>\n",
       "    .dataframe tbody tr th:only-of-type {\n",
       "        vertical-align: middle;\n",
       "    }\n",
       "\n",
       "    .dataframe tbody tr th {\n",
       "        vertical-align: top;\n",
       "    }\n",
       "\n",
       "    .dataframe thead th {\n",
       "        text-align: right;\n",
       "    }\n",
       "</style>\n",
       "<table border=\"1\" class=\"dataframe\">\n",
       "  <thead>\n",
       "    <tr style=\"text-align: right;\">\n",
       "      <th></th>\n",
       "      <th>eventname</th>\n",
       "      <th>total_price</th>\n",
       "    </tr>\n",
       "  </thead>\n",
       "  <tbody>\n",
       "    <tr>\n",
       "      <th>0</th>\n",
       "      <td>Adriana Lecouvreur</td>\n",
       "      <td>51846.0</td>\n",
       "    </tr>\n",
       "    <tr>\n",
       "      <th>1</th>\n",
       "      <td>Janet Jackson</td>\n",
       "      <td>51049.0</td>\n",
       "    </tr>\n",
       "    <tr>\n",
       "      <th>2</th>\n",
       "      <td>Phantom of the Opera</td>\n",
       "      <td>50301.0</td>\n",
       "    </tr>\n",
       "    <tr>\n",
       "      <th>3</th>\n",
       "      <td>The Little Mermaid</td>\n",
       "      <td>49956.0</td>\n",
       "    </tr>\n",
       "    <tr>\n",
       "      <th>4</th>\n",
       "      <td>Citizen Cope</td>\n",
       "      <td>49823.0</td>\n",
       "    </tr>\n",
       "  </tbody>\n",
       "</table>\n",
       "</div>"
      ],
      "text/plain": [
       "              eventname  total_price\n",
       "0    Adriana Lecouvreur      51846.0\n",
       "1         Janet Jackson      51049.0\n",
       "2  Phantom of the Opera      50301.0\n",
       "3    The Little Mermaid      49956.0\n",
       "4          Citizen Cope      49823.0"
      ]
     },
     "execution_count": 152,
     "metadata": {},
     "output_type": "execute_result"
    }
   ],
   "source": [
    "df.head()"
   ]
  },
  {
   "cell_type": "code",
   "execution_count": 153,
   "metadata": {},
   "outputs": [
    {
     "data": {
      "text/plain": [
       "Text(0,0.5,'Histogram')"
      ]
     },
     "execution_count": 153,
     "metadata": {},
     "output_type": "execute_result"
    },
    {
     "data": {
      "image/png": "[encoded data removed]",
      "text/plain": [
       "<Figure size 432x288 with 1 Axes>"
      ]
     },
     "metadata": {},
     "output_type": "display_data"
    }
   ],
   "source": [
    "df.total_price.hist()\n",
    "plt.xlabel('Total price')\n",
    "plt.ylabel('Histogram')"
   ]
  },
  {
   "cell_type": "code",
   "execution_count": null,
   "metadata": {},
   "outputs": [],
   "source": []
  }
 ],
 "metadata": {
  "kernelspec": {
   "display_name": "conda_python3",
   "language": "python",
   "name": "conda_python3"
  },
  "language_info": {
   "codemirror_mode": {
    "name": "ipython",
    "version": 3
   },
   "file_extension": ".py",
   "mimetype": "text/x-python",
   "name": "python",
   "nbconvert_exporter": "python",
   "pygments_lexer": "ipython3",
   "version": "3.6.5"
  }
 },
 "nbformat": 4,
 "nbformat_minor": 2
}
